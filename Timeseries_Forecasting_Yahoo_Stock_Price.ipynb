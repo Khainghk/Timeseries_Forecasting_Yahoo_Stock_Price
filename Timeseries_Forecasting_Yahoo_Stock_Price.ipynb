{
 "cells": [
  {
   "cell_type": "markdown",
   "id": "24520df6",
   "metadata": {},
   "source": [
    "## Import necessary libraries"
   ]
  },
  {
   "cell_type": "code",
   "execution_count": 1,
   "id": "f1756ede",
   "metadata": {},
   "outputs": [],
   "source": [
    "import math # Mathematical functions \n",
    "import numpy as np # Fundamental package for scientific computing with Python\n",
    "import pandas as pd # Additional functions for analysing and manipulating data\n",
    "from datetime import date, timedelta, datetime # Date Functions\n",
    "from pandas.plotting import register_matplotlib_converters # This function adds plotting functions for calender dates\n",
    "import matplotlib.pyplot as plt # Important package for visualization - we use this to plot the market data\n",
    "import matplotlib.dates as mdates # Formatting dates\n",
    "from sklearn.metrics import mean_absolute_error, mean_squared_error # Packages for measuring model performance / errors\n",
    "from keras.models import Sequential # Deep learning library, used for neural networks\n",
    "from keras.layers import LSTM, Dense, Dropout # Deep learning classes for recurrent and regular densely-connected layers\n",
    "from keras.callbacks import EarlyStopping # EarlyStopping during model training\n",
    "from sklearn.preprocessing import RobustScaler, MinMaxScaler # This Scaler removes the median and scales the data according to the quantile range to normalize the price data \n",
    "import seaborn as sns"
   ]
  },
  {
   "cell_type": "markdown",
   "id": "5fbfd046",
   "metadata": {},
   "source": [
    "## Load the yahoo stock price dataset"
   ]
  },
  {
   "cell_type": "code",
   "execution_count": 2,
   "id": "51023a74",
   "metadata": {},
   "outputs": [],
   "source": [
    "df = pd.read_csv('yahoo_stock.csv')"
   ]
  },
  {
   "cell_type": "code",
   "execution_count": 3,
   "id": "964653b6",
   "metadata": {},
   "outputs": [
    {
     "data": {
      "text/html": [
       "<div>\n",
       "<style scoped>\n",
       "    .dataframe tbody tr th:only-of-type {\n",
       "        vertical-align: middle;\n",
       "    }\n",
       "\n",
       "    .dataframe tbody tr th {\n",
       "        vertical-align: top;\n",
       "    }\n",
       "\n",
       "    .dataframe thead th {\n",
       "        text-align: right;\n",
       "    }\n",
       "</style>\n",
       "<table border=\"1\" class=\"dataframe\">\n",
       "  <thead>\n",
       "    <tr style=\"text-align: right;\">\n",
       "      <th></th>\n",
       "      <th>Date</th>\n",
       "      <th>High</th>\n",
       "      <th>Low</th>\n",
       "      <th>Open</th>\n",
       "      <th>Close</th>\n",
       "      <th>Volume</th>\n",
       "      <th>Adj Close</th>\n",
       "    </tr>\n",
       "  </thead>\n",
       "  <tbody>\n",
       "    <tr>\n",
       "      <th>0</th>\n",
       "      <td>2015-11-23</td>\n",
       "      <td>2095.610107</td>\n",
       "      <td>2081.389893</td>\n",
       "      <td>2089.409912</td>\n",
       "      <td>2086.590088</td>\n",
       "      <td>3.587980e+09</td>\n",
       "      <td>2086.590088</td>\n",
       "    </tr>\n",
       "    <tr>\n",
       "      <th>1</th>\n",
       "      <td>2015-11-24</td>\n",
       "      <td>2094.120117</td>\n",
       "      <td>2070.290039</td>\n",
       "      <td>2084.419922</td>\n",
       "      <td>2089.139893</td>\n",
       "      <td>3.884930e+09</td>\n",
       "      <td>2089.139893</td>\n",
       "    </tr>\n",
       "    <tr>\n",
       "      <th>2</th>\n",
       "      <td>2015-11-25</td>\n",
       "      <td>2093.000000</td>\n",
       "      <td>2086.300049</td>\n",
       "      <td>2089.300049</td>\n",
       "      <td>2088.870117</td>\n",
       "      <td>2.852940e+09</td>\n",
       "      <td>2088.870117</td>\n",
       "    </tr>\n",
       "    <tr>\n",
       "      <th>3</th>\n",
       "      <td>2015-11-26</td>\n",
       "      <td>2093.000000</td>\n",
       "      <td>2086.300049</td>\n",
       "      <td>2089.300049</td>\n",
       "      <td>2088.870117</td>\n",
       "      <td>2.852940e+09</td>\n",
       "      <td>2088.870117</td>\n",
       "    </tr>\n",
       "    <tr>\n",
       "      <th>4</th>\n",
       "      <td>2015-11-27</td>\n",
       "      <td>2093.290039</td>\n",
       "      <td>2084.129883</td>\n",
       "      <td>2088.820068</td>\n",
       "      <td>2090.110107</td>\n",
       "      <td>1.466840e+09</td>\n",
       "      <td>2090.110107</td>\n",
       "    </tr>\n",
       "  </tbody>\n",
       "</table>\n",
       "</div>"
      ],
      "text/plain": [
       "         Date         High          Low         Open        Close  \\\n",
       "0  2015-11-23  2095.610107  2081.389893  2089.409912  2086.590088   \n",
       "1  2015-11-24  2094.120117  2070.290039  2084.419922  2089.139893   \n",
       "2  2015-11-25  2093.000000  2086.300049  2089.300049  2088.870117   \n",
       "3  2015-11-26  2093.000000  2086.300049  2089.300049  2088.870117   \n",
       "4  2015-11-27  2093.290039  2084.129883  2088.820068  2090.110107   \n",
       "\n",
       "         Volume    Adj Close  \n",
       "0  3.587980e+09  2086.590088  \n",
       "1  3.884930e+09  2089.139893  \n",
       "2  2.852940e+09  2088.870117  \n",
       "3  2.852940e+09  2088.870117  \n",
       "4  1.466840e+09  2090.110107  "
      ]
     },
     "execution_count": 3,
     "metadata": {},
     "output_type": "execute_result"
    }
   ],
   "source": [
    "df.head()"
   ]
  },
  {
   "cell_type": "code",
   "execution_count": 4,
   "id": "ffc349e0",
   "metadata": {},
   "outputs": [
    {
     "data": {
      "text/plain": [
       "(1825, 7)"
      ]
     },
     "execution_count": 4,
     "metadata": {},
     "output_type": "execute_result"
    }
   ],
   "source": [
    "df.shape"
   ]
  },
  {
   "cell_type": "markdown",
   "id": "488ea727",
   "metadata": {},
   "source": [
    "Our dataset contains 6 columns of indicators and date columns which will be then set as index. Now let's see if the dates are unique or if there are duplicate values."
   ]
  },
  {
   "cell_type": "code",
   "execution_count": 5,
   "id": "3ec9d56f",
   "metadata": {},
   "outputs": [
    {
     "data": {
      "text/plain": [
       "1825"
      ]
     },
     "execution_count": 5,
     "metadata": {},
     "output_type": "execute_result"
    }
   ],
   "source": [
    "len(df['Date'].unique())"
   ]
  },
  {
   "cell_type": "markdown",
   "id": "be06914d",
   "metadata": {},
   "source": [
    "As there are 1825 unique dates means that each one corresponds to unique records in the table, therefore we don't have duplicated or inconsistent values."
   ]
  },
  {
   "cell_type": "code",
   "execution_count": 6,
   "id": "0ff83d07",
   "metadata": {},
   "outputs": [
    {
     "name": "stdout",
     "output_type": "stream",
     "text": [
      "<class 'pandas.core.frame.DataFrame'>\n",
      "RangeIndex: 1825 entries, 0 to 1824\n",
      "Data columns (total 7 columns):\n",
      " #   Column     Non-Null Count  Dtype  \n",
      "---  ------     --------------  -----  \n",
      " 0   Date       1825 non-null   object \n",
      " 1   High       1825 non-null   float64\n",
      " 2   Low        1825 non-null   float64\n",
      " 3   Open       1825 non-null   float64\n",
      " 4   Close      1825 non-null   float64\n",
      " 5   Volume     1825 non-null   float64\n",
      " 6   Adj Close  1825 non-null   float64\n",
      "dtypes: float64(6), object(1)\n",
      "memory usage: 99.9+ KB\n"
     ]
    }
   ],
   "source": [
    "df.info()"
   ]
  },
  {
   "cell_type": "code",
   "execution_count": 7,
   "id": "37c55d44",
   "metadata": {},
   "outputs": [
    {
     "data": {
      "text/plain": [
       "Date         0\n",
       "High         0\n",
       "Low          0\n",
       "Open         0\n",
       "Close        0\n",
       "Volume       0\n",
       "Adj Close    0\n",
       "dtype: int64"
      ]
     },
     "execution_count": 7,
     "metadata": {},
     "output_type": "execute_result"
    }
   ],
   "source": [
    "# Check for null values\n",
    "df.isnull().sum()"
   ]
  },
  {
   "cell_type": "code",
   "execution_count": 8,
   "id": "411827cf",
   "metadata": {},
   "outputs": [],
   "source": [
    "df.Date=pd.to_datetime(df['Date'])"
   ]
  },
  {
   "cell_type": "markdown",
   "id": "e10aa219",
   "metadata": {},
   "source": [
    "There are no null values in the dataset. But the datetime column is wrongly set as int64. Lets change it to datetime format."
   ]
  },
  {
   "cell_type": "code",
   "execution_count": 9,
   "id": "7d030e51",
   "metadata": {},
   "outputs": [],
   "source": [
    "# Set the date column as index\n",
    "df.set_index('Date',inplace=True)"
   ]
  },
  {
   "cell_type": "markdown",
   "id": "2ef4c6ae",
   "metadata": {},
   "source": [
    "## Explore the data"
   ]
  },
  {
   "cell_type": "code",
   "execution_count": 15,
   "id": "5ad0dab2",
   "metadata": {},
   "outputs": [
    {
     "data": {
      "image/png": "[encoded data removed]",
      "text/plain": [
       "<Figure size 1152x432 with 1 Axes>"
      ]
     },
     "metadata": {
      "needs_background": "light"
     },
     "output_type": "display_data"
    }
   ],
   "source": [
    "# Plotting the data\n",
    "register_matplotlib_converters()\n",
    "years = mdates.YearLocator() \n",
    "fig, ax1 = plt.subplots(figsize=(16, 6))\n",
    "ax1.xaxis.set_major_locator(years)\n",
    "x = df.index\n",
    "y = df['Close']\n",
    "ax1.fill_between(x, 0, y, color='#b9e1fa')\n",
    "ax1.legend(\"Yahoo Stock Price\", fontsize=12)\n",
    "plt.title(\"Yahoo Stock Price\", fontsize=16)\n",
    "plt.plot(y, color='#039dfc', linewidth=1.0)\n",
    "plt.ylabel('Close Values', fontsize=12)\n",
    "plt.show()"
   ]
  },
  {
   "cell_type": "markdown",
   "id": "13531a1a",
   "metadata": {},
   "source": [
    "## Preprocess the data"
   ]
  },
  {
   "cell_type": "code",
   "execution_count": 16,
   "id": "4197b225",
   "metadata": {},
   "outputs": [],
   "source": [
    "# Feature Selection - Only Close Data\n",
    "train_df = df.filter(['Close'])\n",
    "data_unscaled = train_df.values\n",
    "\n",
    "# Get the number of rows to train the model on 80% of the data \n",
    "train_data_length = math.ceil(len(data_unscaled) * 0.8)\n",
    "\n",
    "# Transform features by scaling each feature to a range between 0 and 1\n",
    "mmscaler = MinMaxScaler(feature_range=(0, 1))\n",
    "np_data = mmscaler.fit_transform(data_unscaled)"
   ]
  },
  {
   "cell_type": "code",
   "execution_count": 17,
   "id": "71f540e0",
   "metadata": {},
   "outputs": [
    {
     "name": "stdout",
     "output_type": "stream",
     "text": [
      "0\n",
      "(1410, 50, 1) (1410,)\n",
      "(365, 50, 1) (365,)\n",
      "0.7126425270048398\n",
      "0.7126425270048398\n"
     ]
    }
   ],
   "source": [
    "# Set the sequence length - this is the timeframe used to make a single prediction\n",
    "sequence_length = 50\n",
    "\n",
    "# Prediction Index\n",
    "index_Close = train_df.columns.get_loc(\"Close\")\n",
    "print(index_Close)\n",
    "# Split the training data into train and train data sets\n",
    "# As a first step, we get the number of rows to train the model on 80% of the data \n",
    "train_data_len = math.ceil(np_data.shape[0] * 0.8)\n",
    "\n",
    "# Create the training and test data\n",
    "train_data = np_data[0:train_data_len, :]\n",
    "test_data = np_data[train_data_len - sequence_length:, :]\n",
    "\n",
    "# The RNN needs data with the format of [samples, time steps, features]\n",
    "# Here, we create N samples, sequence_length time steps per sample, and 6 features\n",
    "def partition_dataset(sequence_length, train_df):\n",
    "    x, y = [], []\n",
    "    data_len = train_df.shape[0]\n",
    "    for i in range(sequence_length, data_len):\n",
    "        x.append(train_df[i-sequence_length:i,:]) #contains sequence_length values 0-sequence_length * columsn\n",
    "        y.append(train_df[i, index_Close]) #contains the prediction values for validation (3rd column = Close),  for single-step prediction\n",
    "    \n",
    "    # Convert the x and y to numpy arrays\n",
    "    x = np.array(x)\n",
    "    y = np.array(y)\n",
    "    return x, y\n",
    "\n",
    "# Generate training data and test data\n",
    "x_train, y_train = partition_dataset(sequence_length, train_data)\n",
    "x_test, y_test = partition_dataset(sequence_length, test_data)\n",
    "\n",
    "# Print the shapes: the result is: (rows, training_sequence, features) (prediction value, )\n",
    "print(x_train.shape, y_train.shape)\n",
    "print(x_test.shape, y_test.shape)\n",
    "\n",
    "# Validate that the prediction value and the input match up\n",
    "# The last close price of the second input sample should equal the first prediction value\n",
    "print(x_test[1][sequence_length-1][index_Close])\n",
    "print(y_test[0])"
   ]
  },
  {
   "cell_type": "markdown",
   "id": "42da708e",
   "metadata": {},
   "source": [
    "# Design the model architecture"
   ]
  },
  {
   "cell_type": "code",
   "execution_count": 27,
   "id": "7a5991c3",
   "metadata": {},
   "outputs": [],
   "source": [
    "# Configure the neural network model\n",
    "model = Sequential()\n",
    "\n",
    "neurons = sequence_length\n",
    "\n",
    "# Model with sequence_length Neurons \n",
    "# inputshape = sequence_length Timestamps\n",
    "model.add(LSTM(neurons, return_sequences=False, input_shape=(x_train.shape[1], 1))) \n",
    "#model.add(LSTM(neurons, return_sequences=False))\n",
    "model.add(Dense(25, activation='relu'))\n",
    "model.add(Dense(1))\n",
    "\n",
    "# Compile the model\n",
    "model.compile(optimizer='adam', loss='mean_squared_error')"
   ]
  },
  {
   "cell_type": "markdown",
   "id": "2b908538",
   "metadata": {},
   "source": [
    "## Train the model"
   ]
  },
  {
   "cell_type": "code",
   "execution_count": 28,
   "id": "758925b9",
   "metadata": {},
   "outputs": [
    {
     "name": "stdout",
     "output_type": "stream",
     "text": [
      "Epoch 1/100\n",
      "3/3 [==============================] - 5s 633ms/step - loss: 0.0212 - val_loss: 0.1905\n",
      "Epoch 2/100\n",
      "3/3 [==============================] - 1s 257ms/step - loss: 0.0134 - val_loss: 0.1414\n",
      "Epoch 3/100\n",
      "3/3 [==============================] - 1s 263ms/step - loss: 0.0079 - val_loss: 0.0965\n",
      "Epoch 4/100\n",
      "3/3 [==============================] - 1s 281ms/step - loss: 0.0033 - val_loss: 0.0489\n",
      "Epoch 5/100\n",
      "3/3 [==============================] - 1s 361ms/step - loss: 0.0010 - val_loss: 0.0164\n",
      "Epoch 6/100\n",
      "3/3 [==============================] - 1s 271ms/step - loss: 0.0018 - val_loss: 0.0238\n",
      "Epoch 7/100\n",
      "3/3 [==============================] - 1s 281ms/step - loss: 9.3111e-04 - val_loss: 0.0449\n",
      "Epoch 8/100\n",
      "3/3 [==============================] - 1s 287ms/step - loss: 0.0012 - val_loss: 0.0453\n",
      "Epoch 9/100\n",
      "3/3 [==============================] - 1s 268ms/step - loss: 0.0010 - val_loss: 0.0270\n",
      "Epoch 10/100\n",
      "3/3 [==============================] - 1s 225ms/step - loss: 8.1036e-04 - val_loss: 0.0164\n",
      "Epoch 11/100\n",
      "3/3 [==============================] - 1s 212ms/step - loss: 9.3673e-04 - val_loss: 0.0201\n",
      "Epoch 12/100\n",
      "3/3 [==============================] - 1s 217ms/step - loss: 6.3887e-04 - val_loss: 0.0261\n",
      "Epoch 13/100\n",
      "3/3 [==============================] - 1s 208ms/step - loss: 7.2353e-04 - val_loss: 0.0243\n",
      "Epoch 14/100\n",
      "3/3 [==============================] - 0s 205ms/step - loss: 6.2993e-04 - val_loss: 0.0142\n",
      "Epoch 15/100\n",
      "3/3 [==============================] - 0s 208ms/step - loss: 5.2317e-04 - val_loss: 0.0086\n",
      "Epoch 16/100\n",
      "3/3 [==============================] - 1s 219ms/step - loss: 5.0271e-04 - val_loss: 0.0096\n",
      "Epoch 17/100\n",
      "3/3 [==============================] - 1s 246ms/step - loss: 4.0652e-04 - val_loss: 0.0101\n",
      "Epoch 18/100\n",
      "3/3 [==============================] - 1s 214ms/step - loss: 4.0474e-04 - val_loss: 0.0060\n",
      "Epoch 19/100\n",
      "3/3 [==============================] - 0s 204ms/step - loss: 3.2141e-04 - val_loss: 0.0024\n",
      "Epoch 20/100\n",
      "3/3 [==============================] - 1s 211ms/step - loss: 3.1984e-04 - val_loss: 0.0018\n",
      "Epoch 21/100\n",
      "3/3 [==============================] - 0s 203ms/step - loss: 2.6461e-04 - val_loss: 0.0015\n",
      "Epoch 22/100\n",
      "3/3 [==============================] - 0s 208ms/step - loss: 2.3700e-04 - val_loss: 8.8794e-04\n",
      "Epoch 23/100\n",
      "3/3 [==============================] - 1s 210ms/step - loss: 2.2557e-04 - val_loss: 5.3082e-04\n",
      "Epoch 24/100\n",
      "3/3 [==============================] - 0s 203ms/step - loss: 2.1310e-04 - val_loss: 6.4245e-04\n",
      "Epoch 25/100\n",
      "3/3 [==============================] - 1s 218ms/step - loss: 2.0862e-04 - val_loss: 8.6582e-04\n",
      "Epoch 26/100\n",
      "3/3 [==============================] - 0s 206ms/step - loss: 2.0512e-04 - val_loss: 0.0011\n",
      "Epoch 27/100\n",
      "3/3 [==============================] - 0s 205ms/step - loss: 2.0603e-04 - val_loss: 0.0014\n",
      "Epoch 28/100\n",
      "3/3 [==============================] - 1s 224ms/step - loss: 2.0780e-04 - val_loss: 0.0014\n",
      "Epoch 29/100\n",
      "3/3 [==============================] - 1s 322ms/step - loss: 2.0387e-04 - val_loss: 0.0015\n",
      "Epoch 30/100\n",
      "3/3 [==============================] - 1s 375ms/step - loss: 1.9953e-04 - val_loss: 9.6788e-04\n",
      "Epoch 31/100\n",
      "3/3 [==============================] - 1s 234ms/step - loss: 1.9720e-04 - val_loss: 9.7955e-04\n",
      "Epoch 32/100\n",
      "3/3 [==============================] - 1s 212ms/step - loss: 1.9258e-04 - val_loss: 7.3105e-04\n",
      "Epoch 33/100\n",
      "3/3 [==============================] - 1s 207ms/step - loss: 1.9192e-04 - val_loss: 6.8805e-04\n",
      "Epoch 34/100\n",
      "3/3 [==============================] - 1s 210ms/step - loss: 1.9032e-04 - val_loss: 6.4790e-04\n",
      "Epoch 35/100\n",
      "3/3 [==============================] - 1s 208ms/step - loss: 1.8912e-04 - val_loss: 5.8178e-04\n",
      "Epoch 36/100\n",
      "3/3 [==============================] - 0s 207ms/step - loss: 1.8678e-04 - val_loss: 6.8935e-04\n",
      "Epoch 37/100\n",
      "3/3 [==============================] - 1s 226ms/step - loss: 1.8531e-04 - val_loss: 6.8543e-04\n",
      "Epoch 38/100\n",
      "3/3 [==============================] - 1s 296ms/step - loss: 1.8341e-04 - val_loss: 7.0482e-04\n",
      "Epoch 39/100\n",
      "3/3 [==============================] - 1s 282ms/step - loss: 1.8140e-04 - val_loss: 5.9606e-04\n",
      "Epoch 40/100\n",
      "3/3 [==============================] - 1s 207ms/step - loss: 1.7939e-04 - val_loss: 7.4097e-04\n",
      "Epoch 41/100\n",
      "3/3 [==============================] - 1s 230ms/step - loss: 1.8050e-04 - val_loss: 5.1988e-04\n",
      "Epoch 42/100\n",
      "3/3 [==============================] - 1s 313ms/step - loss: 1.8010e-04 - val_loss: 4.9756e-04\n",
      "Epoch 43/100\n",
      "3/3 [==============================] - 1s 212ms/step - loss: 1.7685e-04 - val_loss: 7.0016e-04\n",
      "Epoch 44/100\n",
      "3/3 [==============================] - 1s 228ms/step - loss: 1.7940e-04 - val_loss: 5.0649e-04\n",
      "Epoch 45/100\n",
      "3/3 [==============================] - 1s 285ms/step - loss: 1.7520e-04 - val_loss: 4.4541e-04\n",
      "Epoch 46/100\n",
      "3/3 [==============================] - 1s 209ms/step - loss: 1.7831e-04 - val_loss: 6.9946e-04\n",
      "Epoch 47/100\n",
      "3/3 [==============================] - 1s 307ms/step - loss: 1.8002e-04 - val_loss: 5.7676e-04\n",
      "Epoch 48/100\n",
      "3/3 [==============================] - 1s 352ms/step - loss: 1.6830e-04 - val_loss: 4.3680e-04\n",
      "Epoch 49/100\n",
      "3/3 [==============================] - 1s 213ms/step - loss: 1.7620e-04 - val_loss: 6.2486e-04\n",
      "Epoch 50/100\n",
      "3/3 [==============================] - 1s 208ms/step - loss: 1.7368e-04 - val_loss: 5.3899e-04\n",
      "Epoch 51/100\n",
      "3/3 [==============================] - 1s 209ms/step - loss: 1.6403e-04 - val_loss: 4.3396e-04\n",
      "Epoch 52/100\n",
      "3/3 [==============================] - 1s 214ms/step - loss: 1.8826e-04 - val_loss: 4.3133e-04\n",
      "Epoch 53/100\n",
      "3/3 [==============================] - 1s 217ms/step - loss: 1.7069e-04 - val_loss: 6.3545e-04\n",
      "Epoch 54/100\n",
      "3/3 [==============================] - 0s 201ms/step - loss: 1.6910e-04 - val_loss: 4.3086e-04\n",
      "Epoch 55/100\n",
      "3/3 [==============================] - 0s 201ms/step - loss: 1.8106e-04 - val_loss: 4.8751e-04\n",
      "Epoch 56/100\n",
      "3/3 [==============================] - 0s 200ms/step - loss: 1.6703e-04 - val_loss: 6.5221e-04\n",
      "Epoch 57/100\n",
      "3/3 [==============================] - 0s 201ms/step - loss: 1.6192e-04 - val_loss: 4.1369e-04\n",
      "Epoch 58/100\n",
      "3/3 [==============================] - 0s 201ms/step - loss: 1.7218e-04 - val_loss: 4.7691e-04\n",
      "Epoch 59/100\n",
      "3/3 [==============================] - 0s 201ms/step - loss: 1.5569e-04 - val_loss: 5.5155e-04\n",
      "Epoch 60/100\n",
      "3/3 [==============================] - 0s 198ms/step - loss: 1.5492e-04 - val_loss: 4.2919e-04\n",
      "Epoch 61/100\n",
      "3/3 [==============================] - 0s 199ms/step - loss: 1.5779e-04 - val_loss: 4.5865e-04\n",
      "Epoch 62/100\n",
      "3/3 [==============================] - 0s 199ms/step - loss: 1.5407e-04 - val_loss: 5.2447e-04\n",
      "Epoch 63/100\n",
      "3/3 [==============================] - 0s 200ms/step - loss: 1.5971e-04 - val_loss: 4.4720e-04\n",
      "Epoch 64/100\n",
      "3/3 [==============================] - 0s 199ms/step - loss: 1.5476e-04 - val_loss: 4.0134e-04\n",
      "Epoch 65/100\n",
      "3/3 [==============================] - 0s 201ms/step - loss: 1.5427e-04 - val_loss: 4.4316e-04\n",
      "Epoch 66/100\n",
      "3/3 [==============================] - 0s 200ms/step - loss: 1.5241e-04 - val_loss: 4.0554e-04\n",
      "Epoch 67/100\n",
      "3/3 [==============================] - 0s 202ms/step - loss: 1.5790e-04 - val_loss: 3.8474e-04\n",
      "Epoch 68/100\n",
      "3/3 [==============================] - 0s 199ms/step - loss: 1.4718e-04 - val_loss: 4.2494e-04\n",
      "Epoch 69/100\n",
      "3/3 [==============================] - 0s 203ms/step - loss: 1.5800e-04 - val_loss: 4.0580e-04\n",
      "Epoch 70/100\n",
      "3/3 [==============================] - 0s 199ms/step - loss: 1.4878e-04 - val_loss: 3.8067e-04\n",
      "Epoch 71/100\n",
      "3/3 [==============================] - 0s 202ms/step - loss: 1.4961e-04 - val_loss: 3.8278e-04\n",
      "Epoch 72/100\n",
      "3/3 [==============================] - 0s 200ms/step - loss: 1.4743e-04 - val_loss: 3.7907e-04\n",
      "Epoch 73/100\n",
      "3/3 [==============================] - 0s 201ms/step - loss: 1.5041e-04 - val_loss: 3.8725e-04\n",
      "Epoch 74/100\n",
      "3/3 [==============================] - 0s 200ms/step - loss: 1.4616e-04 - val_loss: 4.4624e-04\n",
      "Epoch 75/100\n",
      "3/3 [==============================] - 1s 384ms/step - loss: 1.6033e-04 - val_loss: 3.9224e-04\n",
      "Epoch 76/100\n",
      "3/3 [==============================] - 1s 337ms/step - loss: 1.5372e-04 - val_loss: 3.7510e-04\n",
      "Epoch 77/100\n",
      "3/3 [==============================] - 1s 410ms/step - loss: 1.5076e-04 - val_loss: 3.9496e-04\n",
      "Epoch 78/100\n"
     ]
    },
    {
     "name": "stdout",
     "output_type": "stream",
     "text": [
      "3/3 [==============================] - 1s 216ms/step - loss: 1.4441e-04 - val_loss: 4.3867e-04\n",
      "Epoch 79/100\n",
      "3/3 [==============================] - 1s 217ms/step - loss: 1.5635e-04 - val_loss: 3.8246e-04\n",
      "Epoch 80/100\n",
      "3/3 [==============================] - 1s 255ms/step - loss: 1.4140e-04 - val_loss: 3.9901e-04\n",
      "Epoch 81/100\n",
      "3/3 [==============================] - 1s 259ms/step - loss: 1.4044e-04 - val_loss: 3.7101e-04\n",
      "Epoch 82/100\n",
      "3/3 [==============================] - 1s 255ms/step - loss: 1.4376e-04 - val_loss: 3.7192e-04\n",
      "Epoch 83/100\n",
      "3/3 [==============================] - 1s 252ms/step - loss: 1.4256e-04 - val_loss: 3.7972e-04\n",
      "Epoch 84/100\n",
      "3/3 [==============================] - 1s 263ms/step - loss: 1.4033e-04 - val_loss: 3.7323e-04\n",
      "Epoch 85/100\n",
      "3/3 [==============================] - 1s 303ms/step - loss: 1.4083e-04 - val_loss: 4.3766e-04\n",
      "Epoch 86/100\n",
      "3/3 [==============================] - 1s 219ms/step - loss: 1.3976e-04 - val_loss: 3.9336e-04\n",
      "Epoch 87/100\n",
      "3/3 [==============================] - 1s 209ms/step - loss: 1.3857e-04 - val_loss: 3.9741e-04\n",
      "Epoch 88/100\n",
      "3/3 [==============================] - 1s 226ms/step - loss: 1.4166e-04 - val_loss: 3.8778e-04\n",
      "Epoch 89/100\n",
      "3/3 [==============================] - 1s 259ms/step - loss: 1.3938e-04 - val_loss: 4.9102e-04\n",
      "Epoch 90/100\n",
      "3/3 [==============================] - 1s 222ms/step - loss: 1.3602e-04 - val_loss: 4.8483e-04\n",
      "Epoch 91/100\n",
      "3/3 [==============================] - 1s 212ms/step - loss: 1.3606e-04 - val_loss: 5.2126e-04\n",
      "Epoch 92/100\n",
      "3/3 [==============================] - 1s 249ms/step - loss: 1.3656e-04 - val_loss: 5.0333e-04\n",
      "Epoch 93/100\n",
      "3/3 [==============================] - 1s 233ms/step - loss: 1.3514e-04 - val_loss: 4.9720e-04\n",
      "Epoch 94/100\n",
      "3/3 [==============================] - 1s 221ms/step - loss: 1.3562e-04 - val_loss: 4.2451e-04\n",
      "Epoch 95/100\n",
      "3/3 [==============================] - 1s 223ms/step - loss: 1.3250e-04 - val_loss: 5.0606e-04\n",
      "Epoch 96/100\n",
      "3/3 [==============================] - 1s 255ms/step - loss: 1.3507e-04 - val_loss: 3.8771e-04\n",
      "Epoch 97/100\n",
      "3/3 [==============================] - 1s 210ms/step - loss: 1.3484e-04 - val_loss: 4.2479e-04\n",
      "Epoch 98/100\n",
      "3/3 [==============================] - 1s 264ms/step - loss: 1.3219e-04 - val_loss: 4.4710e-04\n",
      "Epoch 99/100\n",
      "3/3 [==============================] - 1s 257ms/step - loss: 1.3320e-04 - val_loss: 4.9026e-04\n",
      "Epoch 100/100\n",
      "3/3 [==============================] - 1s 266ms/step - loss: 1.3441e-04 - val_loss: 4.4811e-04\n"
     ]
    }
   ],
   "source": [
    "# Training the model\n",
    "history = model.fit(x_train, y_train, batch_size=128, epochs=100, validation_split = 0.8)"
   ]
  },
  {
   "cell_type": "code",
   "execution_count": 30,
   "id": "351a3a99",
   "metadata": {},
   "outputs": [
    {
     "data": {
      "image/png": "[encoded data removed]",
      "text/plain": [
       "<Figure size 1296x720 with 1 Axes>"
      ]
     },
     "metadata": {
      "needs_background": "light"
     },
     "output_type": "display_data"
    }
   ],
   "source": [
    "# Plot the train loss and validation loss\n",
    "plt.figure(figsize=(18,10))\n",
    "plt.plot(history.history['loss'], label='Train Loss')\n",
    "plt.plot(history.history['val_loss'], label='Test Loss')\n",
    "plt.title('model loss')\n",
    "plt.ylabel('loss')\n",
    "plt.xlabel('epochs')\n",
    "plt.legend(loc='upper right')\n",
    "plt.show()"
   ]
  },
  {
   "cell_type": "markdown",
   "id": "bb399649",
   "metadata": {},
   "source": [
    "## Make predictions"
   ]
  },
  {
   "cell_type": "code",
   "execution_count": 31,
   "id": "6169c5b1",
   "metadata": {},
   "outputs": [],
   "source": [
    "# Get the predicted values\n",
    "y_pred_scaled = model.predict(x_test)\n",
    "y_pred = mmscaler.inverse_transform(y_pred_scaled)\n",
    "y_test_unscaled = mmscaler.inverse_transform(y_test.reshape(-1, 1))"
   ]
  },
  {
   "cell_type": "markdown",
   "id": "4f6bf18f",
   "metadata": {},
   "source": [
    "## Evaluate Model Performance"
   ]
  },
  {
   "cell_type": "code",
   "execution_count": 32,
   "id": "aa260f27",
   "metadata": {},
   "outputs": [
    {
     "name": "stdout",
     "output_type": "stream",
     "text": [
      "Median Absolute Error (MAE): 93.8\n",
      "Mean Absolute Percentage Error (MAPE): 3.0 %\n",
      "Median Absolute Percentage Error (MDAPE): 2.72 %\n"
     ]
    }
   ],
   "source": [
    "# Mean Absolute Error (MAE)\n",
    "MAE = mean_absolute_error(y_test_unscaled, y_pred)\n",
    "print(f'Median Absolute Error (MAE): {np.round(MAE, 2)}')\n",
    "\n",
    "# Mean Absolute Percentage Error (MAPE)\n",
    "MAPE = np.mean((np.abs(np.subtract(y_test_unscaled, y_pred)/ y_test_unscaled))) * 100\n",
    "print(f'Mean Absolute Percentage Error (MAPE): {np.round(MAPE, 2)} %')\n",
    "\n",
    "# Median Absolute Percentage Error (MDAPE)\n",
    "MDAPE = np.median((np.abs(np.subtract(y_test_unscaled, y_pred)/ y_test_unscaled)) ) * 100\n",
    "print(f'Median Absolute Percentage Error (MDAPE): {np.round(MDAPE, 2)} %')"
   ]
  },
  {
   "cell_type": "code",
   "execution_count": 34,
   "id": "7c3a509d",
   "metadata": {},
   "outputs": [
    {
     "data": {
      "image/png": "[encoded data removed]",
      "text/plain": [
       "<Figure size 1152x576 with 1 Axes>"
      ]
     },
     "metadata": {
      "needs_background": "light"
     },
     "output_type": "display_data"
    }
   ],
   "source": [
    "# The date from which on the date is displayed\n",
    "display_start_date = \"2018-01-01\" \n",
    "\n",
    "# Add the difference between the valid and predicted prices\n",
    "train = train_df[:train_data_length + 1]\n",
    "valid = train_df[train_data_length:]\n",
    "valid.insert(1, \"Predictions\", y_pred, True)\n",
    "valid.insert(1, \"Difference\", valid[\"Predictions\"] - valid[\"Close\"], True)\n",
    "\n",
    "# Zoom in to a closer timeframe\n",
    "valid = valid[valid.index > display_start_date]\n",
    "train = train[train.index > display_start_date]\n",
    "\n",
    "# Visualize the data\n",
    "fig, ax = plt.subplots(figsize=(16, 8), sharex=True)\n",
    "\n",
    "plt.title(\"Predictions vs Ground Truth\", fontsize=20)\n",
    "plt.ylabel(\"Yahoo\", fontsize=18)\n",
    "plt.plot(train[\"Close\"], color=\"#039dfc\", linewidth=1.0)\n",
    "plt.plot(valid[\"Predictions\"], color=\"#E91D9E\", linewidth=1.0)\n",
    "plt.plot(valid[\"Close\"], color=\"black\", linewidth=1.0)\n",
    "plt.legend([\"Train\", \"Test Predictions\", \"Ground Truth\"], loc=\"upper left\")\n",
    "\n",
    "# Fill between plotlines\n",
    "# ax.fill_between(yt.index, 0, yt[\"Close\"], color=\"#b9e1fa\")\n",
    "# ax.fill_between(yv.index, 0, yv[\"Predictions\"], color=\"#F0845C\")\n",
    "# ax.fill_between(yv.index, yv[\"Close\"], yv[\"Predictions\"], color=\"grey\") \n",
    "\n",
    "# Create the bar plot with the differences\n",
    "valid.loc[valid[\"Difference\"] >= 0, 'diff_color'] = \"#2BC97A\"\n",
    "valid.loc[valid[\"Difference\"] < 0, 'diff_color'] = \"#C92B2B\"\n",
    "plt.bar(valid.index, valid[\"Difference\"], width=0.8, color=valid['diff_color'])\n",
    "\n",
    "plt.show()"
   ]
  },
  {
   "cell_type": "code",
   "execution_count": 35,
   "id": "4f48dc86",
   "metadata": {},
   "outputs": [
    {
     "data": {
      "text/html": [
       "<div>\n",
       "<style scoped>\n",
       "    .dataframe tbody tr th:only-of-type {\n",
       "        vertical-align: middle;\n",
       "    }\n",
       "\n",
       "    .dataframe tbody tr th {\n",
       "        vertical-align: top;\n",
       "    }\n",
       "\n",
       "    .dataframe thead th {\n",
       "        text-align: right;\n",
       "    }\n",
       "</style>\n",
       "<table border=\"1\" class=\"dataframe\">\n",
       "  <thead>\n",
       "    <tr style=\"text-align: right;\">\n",
       "      <th></th>\n",
       "      <th>Close</th>\n",
       "      <th>Difference</th>\n",
       "      <th>Difference</th>\n",
       "      <th>Predictions</th>\n",
       "      <th>diff_color</th>\n",
       "    </tr>\n",
       "    <tr>\n",
       "      <th>Date</th>\n",
       "      <th></th>\n",
       "      <th></th>\n",
       "      <th></th>\n",
       "      <th></th>\n",
       "      <th></th>\n",
       "    </tr>\n",
       "  </thead>\n",
       "  <tbody>\n",
       "    <tr>\n",
       "      <th>2020-11-16</th>\n",
       "      <td>3626.909912</td>\n",
       "      <td>-210.741943</td>\n",
       "      <td>210.741943</td>\n",
       "      <td>3416.167969</td>\n",
       "      <td>#C92B2B</td>\n",
       "    </tr>\n",
       "    <tr>\n",
       "      <th>2020-11-17</th>\n",
       "      <td>3609.530029</td>\n",
       "      <td>-179.652100</td>\n",
       "      <td>179.652100</td>\n",
       "      <td>3429.877930</td>\n",
       "      <td>#C92B2B</td>\n",
       "    </tr>\n",
       "    <tr>\n",
       "      <th>2020-11-18</th>\n",
       "      <td>3567.790039</td>\n",
       "      <td>-126.562988</td>\n",
       "      <td>126.562988</td>\n",
       "      <td>3441.227051</td>\n",
       "      <td>#C92B2B</td>\n",
       "    </tr>\n",
       "    <tr>\n",
       "      <th>2020-11-19</th>\n",
       "      <td>3581.870117</td>\n",
       "      <td>-134.093750</td>\n",
       "      <td>134.093750</td>\n",
       "      <td>3447.776367</td>\n",
       "      <td>#C92B2B</td>\n",
       "    </tr>\n",
       "    <tr>\n",
       "      <th>2020-11-20</th>\n",
       "      <td>3557.540039</td>\n",
       "      <td>-103.708252</td>\n",
       "      <td>103.708252</td>\n",
       "      <td>3453.831787</td>\n",
       "      <td>#C92B2B</td>\n",
       "    </tr>\n",
       "  </tbody>\n",
       "</table>\n",
       "</div>"
      ],
      "text/plain": [
       "                  Close  Difference  Difference  Predictions diff_color\n",
       "Date                                                                   \n",
       "2020-11-16  3626.909912 -210.741943  210.741943  3416.167969    #C92B2B\n",
       "2020-11-17  3609.530029 -179.652100  179.652100  3429.877930    #C92B2B\n",
       "2020-11-18  3567.790039 -126.562988  126.562988  3441.227051    #C92B2B\n",
       "2020-11-19  3581.870117 -134.093750  134.093750  3447.776367    #C92B2B\n",
       "2020-11-20  3557.540039 -103.708252  103.708252  3453.831787    #C92B2B"
      ]
     },
     "execution_count": 35,
     "metadata": {},
     "output_type": "execute_result"
    }
   ],
   "source": [
    "# Show the valid and predicted prices\n",
    "dif = valid['Close'] - valid['Predictions']\n",
    "valid.insert(2, 'Difference', dif, True)\n",
    "valid.tail(5)"
   ]
  },
  {
   "cell_type": "code",
   "execution_count": null,
   "id": "59221fb3",
   "metadata": {},
   "outputs": [],
   "source": []
  }
 ],
 "metadata": {
  "kernelspec": {
   "display_name": "Python 3 (ipykernel)",
   "language": "python",
   "name": "python3"
  },
  "language_info": {
   "codemirror_mode": {
    "name": "ipython",
    "version": 3
   },
   "file_extension": ".py",
   "mimetype": "text/x-python",
   "name": "python",
   "nbconvert_exporter": "python",
   "pygments_lexer": "ipython3",
   "version": "3.9.7"
  }
 },
 "nbformat": 4,
 "nbformat_minor": 5
}
